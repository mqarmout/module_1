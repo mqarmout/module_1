{
 "cells": [
  {
   "cell_type": "code",
   "execution_count": 2,
   "metadata": {},
   "outputs": [],
   "source": [
    "import os\n",
    "import requests\n",
    "import re\n",
    "# Code here - Import BeautifulSoup library\n",
    "from bs4 import BeautifulSoup\n",
    "# Code ends here"
   ]
  },
  {
   "cell_type": "code",
   "execution_count": 3,
   "metadata": {},
   "outputs": [],
   "source": [
    "global url\n",
    "# url = input(\"please provide the the URL of a medium article for scrapping: \")\n",
    "url = \"https://medium.com/@subashgandyer/papa-what-is-a-neural-network-c5e5cc427c7\"\n",
    "\n",
    "if not re.match(r'https?://medium.com/',url):\n",
    "\t\tprint('Please enter a valid website, or make sure it is a medium article')\n",
    "\t\tos.system.exit(1)\n",
    "\n",
    "# Code here - Call get method in requests object, pass url and collect it in res\n",
    "headers = {\n",
    "    \t'User-Agent': 'Mozilla/5.0'\n",
    "\t}\n",
    "res = requests.get(url, headers=headers)\n",
    "# Code ends here\n",
    "\n",
    "res.raise_for_status()\n",
    "soup = BeautifulSoup(res.text, 'html.parser')"
   ]
  },
  {
   "cell_type": "code",
   "execution_count": 4,
   "metadata": {},
   "outputs": [],
   "source": [
    "text = f'url: {url}\\n\\n'\n",
    "para_text = soup.find_all('p')\n",
    "for para in para_text:\n",
    "    text += f\"{para.text}\\n\\n\""
   ]
  },
  {
   "cell_type": "code",
   "execution_count": 5,
   "metadata": {},
   "outputs": [],
   "source": [
    "rep = {\"<br>\": \"\\n\", \"<br/>\": \"\\n\", \"<li>\":  \"\\n\",\n",
    "\t\t   \"\\nSign up\\n\": \"\", \"\\nSign in\\n\": \"\", \"\\nListen\\n\": \"\",\n",
    "\t\t   \"\\nShare\\n\": \"\", \"\\nFollow\\n\": \"\", \"\\nHelp\\n\": \"\",\n",
    "\t\t   \"\\nStatus\\n\": \"\", \"\\nAbout\\n\": \"\", \"\\nCareers\\n\": \"\",\n",
    "\t\t   \"\\nBlog\\n\": \"\", \"\\nPrivacy\\n\": \"\", \"\\nBlog\\n\": \"\",\n",
    "\t\t   \"\\nTerms\\n\": \"\", \"\\nText to speech\\n\": \"\",\n",
    "\t\t   \"\\nTeams\\n\": \"\", \"\\nCS Teacher to ...\\n\": \"\",\n",
    "\t\t   \"\\n--\\n\": \"\"}\n",
    "rep = dict((re.escape(k), v) for k, v in rep.items()) \n",
    "pattern = re.compile(\"|\".join(rep.keys()))\n",
    "text = pattern.sub(lambda m: rep[re.escape(m.group(0))], text)\n",
    "text = re.sub('\\<(.*?)\\>', '', text)"
   ]
  },
  {
   "cell_type": "code",
   "execution_count": 6,
   "metadata": {},
   "outputs": [
    {
     "name": "stdout",
     "output_type": "stream",
     "text": [
      "papa-what-is-a-neural-network-c5e5cc427c7\n",
      "File saved in directory papa-what-is-a-neural-network-c5e5cc427c7.txt\n"
     ]
    }
   ],
   "source": [
    "name = url.split(\"/\")[-1]\n",
    "print(name)\n",
    "fname = f'{name}.txt'\n",
    "\n",
    "# Code here - write a file using with (2 lines)\n",
    "with open(fname, \"w\") as file:\n",
    "    file.write(text)\n",
    "# Code ends here\n",
    "\n",
    "print(f'File saved in directory {fname}')"
   ]
  }
 ],
 "metadata": {
  "kernelspec": {
   "display_name": "base",
   "language": "python",
   "name": "python3"
  },
  "language_info": {
   "codemirror_mode": {
    "name": "ipython",
    "version": 3
   },
   "file_extension": ".py",
   "mimetype": "text/x-python",
   "name": "python",
   "nbconvert_exporter": "python",
   "pygments_lexer": "ipython3",
   "version": "3.11.7"
  }
 },
 "nbformat": 4,
 "nbformat_minor": 2
}
